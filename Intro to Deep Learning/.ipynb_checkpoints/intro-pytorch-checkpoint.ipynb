{
 "cells": [
  {
   "cell_type": "markdown",
   "metadata": {},
   "source": [
    "# Introduction to PyTorch"
   ]
  },
  {
   "cell_type": "markdown",
   "metadata": {},
   "source": [
    "# Linear Regression with PyTorch"
   ]
  },
  {
   "cell_type": "code",
   "execution_count": 1,
   "metadata": {},
   "outputs": [],
   "source": [
    "import torch\n",
    "import torch.nn as nn\n",
    "\n",
    "# Defining the Linear Regression Model\n",
    "\n",
    "class LReg(nn.Module):\n",
    "  def __init__(self):\n",
    "    super().__init__()\n",
    "    self.m = nn.Parameter(torch.randn((1)))\n",
    "    self.c = nn.Parameter(torch.randn((1)))\n",
    "\n",
    "  def forward(self, x): return (self.m * x) + self.c\n",
    "\n",
    "# Initialize the Model\n",
    "net = LReg()"
   ]
  },
  {
   "cell_type": "markdown",
   "metadata": {},
   "source": [
    " Define the Loss functions"
   ]
  },
  {
   "cell_type": "code",
   "execution_count": 2,
   "metadata": {},
   "outputs": [],
   "source": [
    "# We will use a simple Mean Squared Error\n",
    "def mse(preds, target):\n",
    "  se = ((preds - target.float()) ** 2).sum()\n",
    "  return se / len(preds)"
   ]
  },
  {
   "cell_type": "markdown",
   "metadata": {},
   "source": [
    " Define function to train model"
   ]
  },
  {
   "cell_type": "code",
   "execution_count": 17,
   "metadata": {},
   "outputs": [],
   "source": [
    "import torch.optim as optim\n",
    "\n",
    "def train(net, crit, trl, val, epochs=5, lr=0.01, clf=True, bclf=-1):\n",
    "  # Initialize the Optimizer\n",
    "  opt = optim.Adam(net.parameters(), lr=lr)\n",
    "  dev = 'cuda' if torch.cuda.is_available() else 'cpu'\n",
    "  net.to(dev)\n",
    "  net.train()\n",
    "  for i in range(epochs):\n",
    "    for data, labl in trl:\n",
    "      data, labl = data.to(dev), labl.to(dev)\n",
    "      if clf and bclf != -1: labl = (labl == bclf).unsqueeze(1).float()\n",
    "      out = net(data.float())\n",
    "      loss = crit(out, labl)\n",
    "      opt.zero_grad()\n",
    "      loss.backward()\n",
    "      opt.step()\n",
    "    \n",
    "    with torch.no_grad():\n",
    "      net.eval()\n",
    "      acc = 0; vloss = 0;\n",
    "      for data, labl in val:\n",
    "        data, labl = data.to(dev), labl.to(dev)\n",
    "        if clf and bclf != -1: labl = (labl == bclf).unsqueeze(1).float()\n",
    "        out = net(data.float())\n",
    "        vloss += crit(out, labl).detach().cpu().numpy().item()\n",
    "        if clf: plabl = torch.argmax(out, dim=1)\n",
    "        if clf and bclf != -1: plabl = plabl.reshape(-1, 1).float()\n",
    "        if clf: acc += (labl == plabl).detach().cpu().sum().numpy()\n",
    "      \n",
    "      vloss /= (len(val) * val.batch_size)\n",
    "      if clf:\n",
    "        acc /= (float(len(val)) * val.batch_size)\n",
    "        print ('Epoch {}/{} - Validation Loss {:.2f} - Accuracy - {:.2f}'.format(i+1, epochs,\n",
    "          vloss, acc))\n",
    "      else:\n",
    "        print ('Epoch {}/{} - Validation Loss {:.2f}'.format(i+1, epochs, vloss))"
   ]
  },
  {
   "cell_type": "markdown",
   "metadata": {},
   "source": [
    " Define a synthetic Dataset"
   ]
  },
  {
   "cell_type": "code",
   "execution_count": 3,
   "metadata": {},
   "outputs": [],
   "source": [
    "from torch.utils.data import DataLoader\n",
    "from torch.utils.data import TensorDataset\n",
    "\n",
    "x = torch.arange(1, 1000)\n",
    "y = x * 2\n",
    "tr = TensorDataset(x, y)\n",
    "tloader = DataLoader(tr, batch_size=4, shuffle=True)\n",
    "\n",
    "x = torch.arange(5000, 6000)\n",
    "y = x * 2\n",
    "va = TensorDataset(x, y)\n",
    "vloader = DataLoader(va, batch_size=4, shuffle=True)"
   ]
  },
  {
   "cell_type": "markdown",
   "metadata": {},
   "source": [
    " Train the model on the Synthetic Dataset"
   ]
  },
  {
   "cell_type": "code",
   "execution_count": 19,
   "metadata": {},
   "outputs": [
    {
     "name": "stdout",
     "output_type": "stream",
     "text": [
      "Epoch 1/50 - Validation Loss 7641919.04\n",
      "Epoch 2/50 - Validation Loss 344168.95\n",
      "Epoch 3/50 - Validation Loss 5659.62\n",
      "Epoch 4/50 - Validation Loss 226.37\n",
      "Epoch 5/50 - Validation Loss 133.83\n",
      "Epoch 6/50 - Validation Loss 137.57\n",
      "Epoch 7/50 - Validation Loss 133.00\n",
      "Epoch 8/50 - Validation Loss 131.92\n",
      "Epoch 9/50 - Validation Loss 140.34\n",
      "Epoch 10/50 - Validation Loss 128.40\n",
      "Epoch 11/50 - Validation Loss 124.18\n",
      "Epoch 12/50 - Validation Loss 126.91\n",
      "Epoch 13/50 - Validation Loss 117.05\n",
      "Epoch 14/50 - Validation Loss 128.49\n",
      "Epoch 15/50 - Validation Loss 124.32\n",
      "Epoch 16/50 - Validation Loss 130.04\n",
      "Epoch 17/50 - Validation Loss 109.20\n",
      "Epoch 18/50 - Validation Loss 131.01\n",
      "Epoch 19/50 - Validation Loss 122.51\n",
      "Epoch 20/50 - Validation Loss 109.98\n",
      "Epoch 21/50 - Validation Loss 88.89\n",
      "Epoch 22/50 - Validation Loss 117.28\n",
      "Epoch 23/50 - Validation Loss 113.64\n",
      "Epoch 24/50 - Validation Loss 105.77\n",
      "Epoch 25/50 - Validation Loss 98.54\n",
      "Epoch 26/50 - Validation Loss 88.99\n",
      "Epoch 27/50 - Validation Loss 79.78\n",
      "Epoch 28/50 - Validation Loss 90.16\n",
      "Epoch 29/50 - Validation Loss 74.07\n",
      "Epoch 30/50 - Validation Loss 62.15\n",
      "Epoch 31/50 - Validation Loss 48.01\n",
      "Epoch 32/50 - Validation Loss 64.90\n",
      "Epoch 33/50 - Validation Loss 54.13\n",
      "Epoch 34/50 - Validation Loss 61.40\n",
      "Epoch 35/50 - Validation Loss 16.91\n",
      "Epoch 36/50 - Validation Loss 26.19\n",
      "Epoch 37/50 - Validation Loss 20.47\n",
      "Epoch 38/50 - Validation Loss 7.06\n",
      "Epoch 39/50 - Validation Loss 10.63\n",
      "Epoch 40/50 - Validation Loss 16.34\n",
      "Epoch 41/50 - Validation Loss 9.07\n",
      "Epoch 42/50 - Validation Loss 2.16\n",
      "Epoch 43/50 - Validation Loss 1.72\n",
      "Epoch 44/50 - Validation Loss 1.10\n",
      "Epoch 45/50 - Validation Loss 1.55\n",
      "Epoch 46/50 - Validation Loss 0.35\n",
      "Epoch 47/50 - Validation Loss 0.09\n",
      "Epoch 48/50 - Validation Loss 0.04\n",
      "Epoch 49/50 - Validation Loss 0.00\n",
      "Epoch 50/50 - Validation Loss 0.02\n"
     ]
    }
   ],
   "source": [
    "train(net, mse, tloader, vloader, clf=False, epochs=50, lr=0.01)"
   ]
  },
  {
   "cell_type": "markdown",
   "metadata": {},
   "source": [
    " Test it on a number"
   ]
  },
  {
   "cell_type": "code",
   "execution_count": 20,
   "metadata": {},
   "outputs": [
    {
     "name": "stdout",
     "output_type": "stream",
     "text": [
      "64622.41796875\n"
     ]
    }
   ],
   "source": [
    "number_to_test = 32312.\n",
    "net.cpu()\n",
    "with torch.no_grad():\n",
    "  inp_tensor = torch.Tensor([number_to_test])\n",
    "  print (net(inp_tensor).item())"
   ]
  }
 ],
 "metadata": {
  "kernelspec": {
   "display_name": "Python 3",
   "language": "python",
   "name": "python3"
  },
  "language_info": {
   "codemirror_mode": {
    "name": "ipython",
    "version": 3
   },
   "file_extension": ".py",
   "mimetype": "text/x-python",
   "name": "python",
   "nbconvert_exporter": "python",
   "pygments_lexer": "ipython3",
   "version": "3.6.8"
  }
 },
 "nbformat": 4,
 "nbformat_minor": 2
}
