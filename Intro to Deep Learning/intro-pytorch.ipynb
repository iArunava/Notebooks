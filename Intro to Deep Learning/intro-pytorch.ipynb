{
  "nbformat": 4,
  "nbformat_minor": 0,
  "metadata": {
    "colab": {
      "name": "intro-pytorch.ipynb",
      "version": "0.3.2",
      "provenance": []
    },
    "language_info": {
      "codemirror_mode": {
        "name": "ipython",
        "version": 3
      },
      "file_extension": ".py",
      "mimetype": "text/x-python",
      "name": "python",
      "nbconvert_exporter": "python",
      "pygments_lexer": "ipython3",
      "version": "3.6.8"
    },
    "kernelspec": {
      "display_name": "Python 3",
      "language": "python",
      "name": "python3"
    }
  },
  "cells": [
    {
      "cell_type": "markdown",
      "metadata": {
        "id": "pm16GR1xu_0m",
        "colab_type": "text"
      },
      "source": [
        "# Introduction to PyTorch"
      ]
    },
    {
      "cell_type": "markdown",
      "metadata": {
        "id": "A5--Rln7u_0y",
        "colab_type": "text"
      },
      "source": [
        "# Linear Regression with PyTorch"
      ]
    },
    {
      "cell_type": "code",
      "metadata": {
        "id": "V7qRp_5ru_03",
        "colab_type": "code",
        "colab": {}
      },
      "source": [
        "import torch\n",
        "import torch.nn as nn\n",
        "\n",
        "# Defining the Linear Regression Model\n",
        "\n",
        "class LReg(nn.Module):\n",
        "  def __init__(self):\n",
        "    super().__init__()\n",
        "    self.m = nn.Parameter(torch.randn((1)))\n",
        "    self.c = nn.Parameter(torch.randn((1)))\n",
        "\n",
        "  def forward(self, x): \n",
        "    return (self.m * x) + self.c\n",
        "\n",
        "# Initialize the Model\n",
        "net = LReg()"
      ],
      "execution_count": 0,
      "outputs": []
    },
    {
      "cell_type": "markdown",
      "metadata": {
        "id": "vn7dJFqeu_1F",
        "colab_type": "text"
      },
      "source": [
        " Define the Loss functions"
      ]
    },
    {
      "cell_type": "code",
      "metadata": {
        "id": "5xprCiJpu_1L",
        "colab_type": "code",
        "colab": {}
      },
      "source": [
        "# We will use a simple Mean Squared Error\n",
        "def mse(preds, target):\n",
        "  se = ((preds - target.float()) ** 2).sum()\n",
        "  return se / len(preds)"
      ],
      "execution_count": 0,
      "outputs": []
    },
    {
      "cell_type": "markdown",
      "metadata": {
        "id": "-CBcnIB-u_1j",
        "colab_type": "text"
      },
      "source": [
        " Define a synthetic Dataset"
      ]
    },
    {
      "cell_type": "code",
      "metadata": {
        "colab_type": "code",
        "id": "HsBdjHChwJuZ",
        "colab": {}
      },
      "source": [
        "from torch.utils.data import DataLoader\n",
        "from torch.utils.data import TensorDataset\n",
        "\n",
        "x = torch.arange(1, 1000)\n",
        "y = x * 2\n",
        "tr = TensorDataset(x, y)\n",
        "tloader = DataLoader(tr, batch_size=4, shuffle=True)\n",
        "\n",
        "x = torch.arange(5000, 6000)\n",
        "y = x * 2\n",
        "va = TensorDataset(x, y)\n",
        "vloader = DataLoader(va, batch_size=4, shuffle=True)"
      ],
      "execution_count": 0,
      "outputs": []
    },
    {
      "cell_type": "markdown",
      "metadata": {
        "id": "dH6p7-7ru_1X",
        "colab_type": "text"
      },
      "source": [
        " Define function to train model"
      ]
    },
    {
      "cell_type": "code",
      "metadata": {
        "id": "Y4Yz9HDTu_1b",
        "colab_type": "code",
        "colab": {}
      },
      "source": [
        "import torch.optim as optim\n",
        "\n",
        "def train(net, crit, trl, val, epochs=5, lr=0.01):\n",
        "  # Initialize the Optimizer\n",
        "  opt = optim.Adam(net.parameters(), lr=lr)\n",
        "  \n",
        "  dev = 'cuda' if torch.cuda.is_available() else 'cpu'\n",
        "  \n",
        "  net.to(dev)\n",
        "  net.train()\n",
        "  \n",
        "  for i in range(epochs):\n",
        "    \n",
        "    for data, labl in trl:\n",
        "      data, labl = data.to(dev), labl.to(dev)\n",
        "      \n",
        "      out = net(data.float())\n",
        "      \n",
        "      loss = crit(out, labl)\n",
        "      \n",
        "      opt.zero_grad()\n",
        "      loss.backward()\n",
        "      opt.step()\n",
        "    \n",
        "    \n",
        "    with torch.no_grad():\n",
        "      net.eval()\n",
        "      acc = 0; vloss = 0;\n",
        "      \n",
        "      for data, labl in val:\n",
        "        data, labl = data.to(dev), labl.to(dev)\n",
        "        \n",
        "        out = net(data.float())\n",
        "        \n",
        "        vloss += crit(out, labl).detach().cpu().numpy().item()\n",
        "      \n",
        "      vloss /= (len(val) * val.batch_size)\n",
        "      \n",
        "      print ('Epoch {}/{} - Validation Loss {:.7f}'.format(i+1, epochs, vloss))"
      ],
      "execution_count": 0,
      "outputs": []
    },
    {
      "cell_type": "markdown",
      "metadata": {
        "id": "AyE3hS7-u_1v",
        "colab_type": "text"
      },
      "source": [
        " Train the model on the Synthetic Dataset"
      ]
    },
    {
      "cell_type": "code",
      "metadata": {
        "id": "AkAuyn4nu_1y",
        "colab_type": "code",
        "colab": {
          "base_uri": "https://localhost:8080/",
          "height": 973
        },
        "outputId": "ee08b2f6-69c6-4cb6-9671-58c4877d7d15"
      },
      "source": [
        "train(net, mse, tloader, vloader, epochs=50, lr=0.01)"
      ],
      "execution_count": 20,
      "outputs": [
        {
          "output_type": "stream",
          "text": [
            "Epoch 1/50 - Validation Loss 0.0002387\n",
            "Epoch 2/50 - Validation Loss 0.0000369\n",
            "Epoch 3/50 - Validation Loss 0.0000020\n",
            "Epoch 4/50 - Validation Loss 0.0002587\n",
            "Epoch 5/50 - Validation Loss 0.0000038\n",
            "Epoch 6/50 - Validation Loss 22.3764328\n",
            "Epoch 7/50 - Validation Loss 0.0049550\n",
            "Epoch 8/50 - Validation Loss 0.0137209\n",
            "Epoch 9/50 - Validation Loss 0.0029852\n",
            "Epoch 10/50 - Validation Loss 0.0000545\n",
            "Epoch 11/50 - Validation Loss 0.0000026\n",
            "Epoch 12/50 - Validation Loss 0.0000002\n",
            "Epoch 13/50 - Validation Loss 0.0000000\n",
            "Epoch 14/50 - Validation Loss 0.0000000\n",
            "Epoch 15/50 - Validation Loss 0.0000000\n",
            "Epoch 16/50 - Validation Loss 0.0000000\n",
            "Epoch 17/50 - Validation Loss 0.0000000\n",
            "Epoch 18/50 - Validation Loss 0.0000000\n",
            "Epoch 19/50 - Validation Loss 0.0000000\n",
            "Epoch 20/50 - Validation Loss 0.0000000\n",
            "Epoch 21/50 - Validation Loss 0.0000000\n",
            "Epoch 22/50 - Validation Loss 0.0000000\n",
            "Epoch 23/50 - Validation Loss 0.0000000\n",
            "Epoch 24/50 - Validation Loss 0.0000000\n",
            "Epoch 25/50 - Validation Loss 0.0000000\n",
            "Epoch 26/50 - Validation Loss 0.0000000\n",
            "Epoch 27/50 - Validation Loss 0.0000000\n",
            "Epoch 28/50 - Validation Loss 0.0000000\n",
            "Epoch 29/50 - Validation Loss 0.0000000\n",
            "Epoch 30/50 - Validation Loss 0.0000000\n",
            "Epoch 31/50 - Validation Loss 0.0000000\n",
            "Epoch 32/50 - Validation Loss 0.0000000\n",
            "Epoch 33/50 - Validation Loss 0.0000000\n",
            "Epoch 34/50 - Validation Loss 0.0000000\n",
            "Epoch 35/50 - Validation Loss 0.0000000\n",
            "Epoch 36/50 - Validation Loss 0.0000000\n",
            "Epoch 37/50 - Validation Loss 0.0000000\n",
            "Epoch 38/50 - Validation Loss 0.0000000\n",
            "Epoch 39/50 - Validation Loss 0.0000000\n",
            "Epoch 40/50 - Validation Loss 0.0000000\n",
            "Epoch 41/50 - Validation Loss 0.0000000\n",
            "Epoch 42/50 - Validation Loss 0.0000000\n",
            "Epoch 43/50 - Validation Loss 0.0000000\n",
            "Epoch 44/50 - Validation Loss 0.0000000\n",
            "Epoch 45/50 - Validation Loss 0.0000000\n",
            "Epoch 46/50 - Validation Loss 0.0000000\n",
            "Epoch 47/50 - Validation Loss 0.0000000\n",
            "Epoch 48/50 - Validation Loss 0.0000000\n",
            "Epoch 49/50 - Validation Loss 0.0000000\n",
            "Epoch 50/50 - Validation Loss 0.0000000\n"
          ],
          "name": "stdout"
        }
      ]
    },
    {
      "cell_type": "markdown",
      "metadata": {
        "id": "o_YSTknGu_1-",
        "colab_type": "text"
      },
      "source": [
        " Test it on a number"
      ]
    },
    {
      "cell_type": "code",
      "metadata": {
        "id": "I-mTX3U-u_2B",
        "colab_type": "code",
        "colab": {
          "base_uri": "https://localhost:8080/",
          "height": 36
        },
        "outputId": "afece84a-7485-4858-f56a-b846bf4ea3aa"
      },
      "source": [
        "number_to_test = 32312.\n",
        "net.cpu()\n",
        "with torch.no_grad():\n",
        "  net.eval()\n",
        "  inp_tensor = torch.Tensor([number_to_test])\n",
        "  print (net(inp_tensor).item())"
      ],
      "execution_count": 22,
      "outputs": [
        {
          "output_type": "stream",
          "text": [
            "tensor([64624.])\n"
          ],
          "name": "stdout"
        }
      ]
    },
    {
      "cell_type": "code",
      "metadata": {
        "id": "P8a1y9825-NE",
        "colab_type": "code",
        "colab": {
          "base_uri": "https://localhost:8080/",
          "height": 55
        },
        "outputId": "5eb13c39-555b-4f74-9464-cd0e2942506e"
      },
      "source": [
        "net.m"
      ],
      "execution_count": 23,
      "outputs": [
        {
          "output_type": "execute_result",
          "data": {
            "text/plain": [
              "Parameter containing:\n",
              "tensor([2.], requires_grad=True)"
            ]
          },
          "metadata": {
            "tags": []
          },
          "execution_count": 23
        }
      ]
    },
    {
      "cell_type": "code",
      "metadata": {
        "id": "r9PfhUzK6FMv",
        "colab_type": "code",
        "colab": {
          "base_uri": "https://localhost:8080/",
          "height": 55
        },
        "outputId": "cc8118c6-b447-47d0-9467-267e019924ea"
      },
      "source": [
        "net.c"
      ],
      "execution_count": 24,
      "outputs": [
        {
          "output_type": "execute_result",
          "data": {
            "text/plain": [
              "Parameter containing:\n",
              "tensor([9.5707e-08], requires_grad=True)"
            ]
          },
          "metadata": {
            "tags": []
          },
          "execution_count": 24
        }
      ]
    },
    {
      "cell_type": "code",
      "metadata": {
        "id": "Q_D8b1416HP9",
        "colab_type": "code",
        "colab": {}
      },
      "source": [
        ""
      ],
      "execution_count": 0,
      "outputs": []
    }
  ]
}