{
  "nbformat": 4,
  "nbformat_minor": 0,
  "metadata": {
    "colab": {
      "name": "Build a MNIST Classifier.ipynb",
      "version": "0.3.2",
      "provenance": []
    },
    "language_info": {
      "codemirror_mode": {
        "name": "ipython",
        "version": 3
      },
      "file_extension": ".py",
      "mimetype": "text/x-python",
      "name": "python",
      "nbconvert_exporter": "python",
      "pygments_lexer": "ipython3",
      "version": "3.6.8"
    },
    "kernelspec": {
      "name": "python3",
      "display_name": "Python 3"
    },
    "accelerator": "GPU"
  },
  "cells": [
    {
      "cell_type": "markdown",
      "metadata": {
        "id": "a1-jeBQKS27N",
        "colab_type": "text"
      },
      "source": [
        "# MNIST Classifier"
      ]
    },
    {
      "cell_type": "code",
      "metadata": {
        "id": "Fhny_FZRS27V",
        "colab_type": "code",
        "colab": {}
      },
      "source": [
        "import torch\n",
        "import torch.nn as nn"
      ],
      "execution_count": 0,
      "outputs": []
    },
    {
      "cell_type": "markdown",
      "metadata": {
        "id": "MKw2Eu54S27o",
        "colab_type": "text"
      },
      "source": [
        "## Build the model"
      ]
    },
    {
      "cell_type": "markdown",
      "metadata": {
        "id": "KjOI7mHzjW-M",
        "colab_type": "text"
      },
      "source": [
        "### Linear"
      ]
    },
    {
      "cell_type": "code",
      "metadata": {
        "id": "f-mVInPUjQmQ",
        "colab_type": "code",
        "colab": {}
      },
      "source": [
        "class Flatten(nn.Module):\n",
        "  def forward(self, x):\n",
        "    return x.reshape(x.size(0), -1)\n",
        "  \n",
        "class MultiLayerPerceptron(nn.Module):\n",
        "  def __init__(self, nc:int=10):\n",
        "    super().__init__()\n",
        "    layers = [Flatten(),\n",
        "              nn.Linear(784, 1024),\n",
        "              nn.Linear(1024, 512),\n",
        "              nn.Linear(512, 128),\n",
        "              nn.Linear(128, nc)]\n",
        "    \n",
        "    self.net = nn.Sequential(*layers)\n",
        "\n",
        "  def forward(self, x):\n",
        "    return self.net(x)\n",
        "\n",
        "\n",
        "net = MultiLayerPerceptron()"
      ],
      "execution_count": 0,
      "outputs": []
    },
    {
      "cell_type": "markdown",
      "metadata": {
        "id": "cayEcoxZjalj",
        "colab_type": "text"
      },
      "source": [
        "### Conv"
      ]
    },
    {
      "cell_type": "code",
      "metadata": {
        "id": "-Qx5q0zqS27s",
        "colab_type": "code",
        "colab": {}
      },
      "source": [
        "def conv(ic:int, oc:int, k:int=5):\n",
        "  layers = [nn.Conv2d(ic, oc, kernel_size=5), \n",
        "            nn.MaxPool2d(2), \n",
        "            nn.ReLU(inplace=True)]\n",
        "  return layers\n",
        "\n",
        "class Lenet(nn.Module):\n",
        "  def __init__(self, nc:int=10):\n",
        "    super().__init__()\n",
        "    layers = [*conv(1, 6), \n",
        "              *conv(6, 16), \n",
        "              Flatten(), \n",
        "              nn.Linear(16*4*4, 120), \n",
        "              nn.Linear(120, 84), \n",
        "              nn.Linear(84, nc)]\n",
        "    \n",
        "    self.net = nn.Sequential(*layers)\n",
        "\n",
        "  def forward(self, x): \n",
        "    return self.net(x)\n",
        "\n",
        "\n",
        "net = Lenet()"
      ],
      "execution_count": 0,
      "outputs": []
    },
    {
      "cell_type": "markdown",
      "metadata": {
        "id": "-kOzxYxoS28H",
        "colab_type": "text"
      },
      "source": [
        "## Get the Dataset!"
      ]
    },
    {
      "cell_type": "code",
      "metadata": {
        "id": "6s6fYarsS28M",
        "colab_type": "code",
        "colab": {}
      },
      "source": [
        "from torchvision import transforms as T\n",
        "import torch.optim as optim\n",
        "from torch.utils.data import DataLoader\n",
        "from torchvision import datasets, transforms\n",
        "\n",
        "\n",
        "dset = 'FMNIST'\n",
        "\n",
        "def get_dataset(root='./', bs=16, dset='FMNIST'):\n",
        "  trf = T.Compose([\n",
        "          T.RandomRotation(20),\n",
        "          T.ToTensor(),\n",
        "          T.Normalize((0.5,), (0.5,))\n",
        "      ])\n",
        "  \n",
        "  if dset == 'MNIST':\n",
        "    t = datasets.MNIST(root, train=True, download=True, transform=trf)\n",
        "    v = datasets.MNIST(root, train=False, download=True, transform=trf)\n",
        "  elif dset == 'FMNIST':\n",
        "    t = datasets.FashionMNIST(root, train=True, download=True, transform=trf)\n",
        "    v = datasets.FashionMNIST(root, train=False, download=True, transform=trf)\n",
        "    \n",
        "  tloader = DataLoader(t, shuffle=True, batch_size=bs)\n",
        "  vloader = DataLoader(v, shuffle=True, batch_size=bs)\n",
        "  \n",
        "  return tloader, vloader\n",
        "\n",
        "tloader, vloader = get_dataset(dset=dset)"
      ],
      "execution_count": 0,
      "outputs": []
    },
    {
      "cell_type": "markdown",
      "metadata": {
        "id": "4FyvVG4wS28d",
        "colab_type": "text"
      },
      "source": [
        "## Define the Loss function and Optimizer"
      ]
    },
    {
      "cell_type": "code",
      "metadata": {
        "id": "i2ezpZf8S28h",
        "colab_type": "code",
        "colab": {}
      },
      "source": [
        "opti = optim.SGD(net.parameters(), lr=0.01)\n",
        "crit = nn.CrossEntropyLoss()"
      ],
      "execution_count": 0,
      "outputs": []
    },
    {
      "cell_type": "markdown",
      "metadata": {
        "id": "Kb4tK5m8S28x",
        "colab_type": "text"
      },
      "source": [
        "## Define the train function and train a MNIST Classifier"
      ]
    },
    {
      "cell_type": "code",
      "metadata": {
        "id": "lukDtMLZS281",
        "colab_type": "code",
        "colab": {}
      },
      "source": [
        "import torch.optim as optim\n",
        "\n",
        "def train(net, crit, trl, val, epochs=5, lr=0.01, dev='cuda'):\n",
        "  # Initialize the Optimizer\n",
        "  opt = optim.SGD(net.parameters(), lr=lr)\n",
        "  dev = 'cuda' if torch.cuda.is_available() and dev == 'cuda' else 'cpu'\n",
        "  net.to(dev)\n",
        "  for i in range(epochs):\n",
        "    for data, labl in trl:\n",
        "      data, labl = data.to(dev), labl.to(dev)\n",
        "      #labl = (labl == bclf).unsqueeze(1).float()\n",
        "      out = net(data.float())\n",
        "      loss = crit(out, labl)\n",
        "      #print (loss)\n",
        "      opt.zero_grad()\n",
        "      loss.backward()\n",
        "      opt.step()\n",
        "    \n",
        "    with torch.no_grad():\n",
        "      acc = 0; vloss = 0;\n",
        "      for data, labl in val:\n",
        "        data, labl = data.to(dev), labl.to(dev)\n",
        "        #labl = (labl == bclf).unsqueeze(1).float()\n",
        "        out = net(data.float())\n",
        "        vloss += crit(out, labl).detach().cpu().numpy().item()\n",
        "        plabl = torch.argmax(out, dim=1)\n",
        "        #plabl = plabl.reshape(-1, 1).float()\n",
        "        acc += (labl.float() == plabl.float()).detach().cpu().sum().numpy()\n",
        "      \n",
        "      vloss /= (len(val) * val.batch_size)\n",
        "      acc /= (len(val) * val.batch_size)\n",
        "      print ('Epoch {}/{} - Validation Loss {:.3f} - Accuracy - {:.3f}'.format(i+1, epochs,\n",
        "        vloss, acc))"
      ],
      "execution_count": 0,
      "outputs": []
    },
    {
      "cell_type": "code",
      "metadata": {
        "id": "Rq7qBMkIS29C",
        "colab_type": "code",
        "outputId": "721ec7eb-faa9-493c-c34d-75a070940cd1",
        "colab": {
          "base_uri": "https://localhost:8080/",
          "height": 114
        }
      },
      "source": [
        "train(net, crit, tloader, vloader, epochs=5, lr=0.01)"
      ],
      "execution_count": 0,
      "outputs": [
        {
          "output_type": "stream",
          "text": [
            "Epoch 1/5 - Validation Loss 0.039 - Accuracy - 0.773\n",
            "Epoch 2/5 - Validation Loss 0.037 - Accuracy - 0.782\n",
            "Epoch 3/5 - Validation Loss 0.037 - Accuracy - 0.789\n",
            "Epoch 4/5 - Validation Loss 0.036 - Accuracy - 0.796\n",
            "Epoch 5/5 - Validation Loss 0.036 - Accuracy - 0.793\n"
          ],
          "name": "stdout"
        }
      ]
    },
    {
      "cell_type": "markdown",
      "metadata": {
        "id": "wJLJH557S29Z",
        "colab_type": "text"
      },
      "source": [
        "## Let's viz!"
      ]
    },
    {
      "cell_type": "code",
      "metadata": {
        "id": "mTXaDDpkS29d",
        "colab_type": "code",
        "outputId": "efd42f7d-96df-44a4-ab82-4ee21f56330b",
        "colab": {
          "base_uri": "https://localhost:8080/",
          "height": 366
        }
      },
      "source": [
        "%matplotlib inline\n",
        "%config InlineBackend.figure_format = 'retina'\n",
        "from torch.nn import functional as F\n",
        "\n",
        "# Test out your network!\n",
        "\n",
        "dataiter = iter(vloader)\n",
        "images, labels = dataiter.next()\n",
        "img = images[0].unsqueeze(0)\n",
        "ps = torch.exp(F.log_softmax(net.cpu()(img), dim=1))\n",
        "\n",
        "# Plot the image and probabilities\n",
        "view_classify(img.resize_(1, 28, 28), ps, version=dset)"
      ],
      "execution_count": 0,
      "outputs": [
        {
          "output_type": "display_data",
          "data": {
            "image/png": "[encoded data removed]",
            "text/plain": [
              "<Figure size 720x720 with 2 Axes>"
            ]
          },
          "metadata": {
            "tags": [],
            "image/png": {
              "width": 711,
              "height": 349
            }
          }
        }
      ]
    },
    {
      "cell_type": "code",
      "metadata": {
        "id": "gaKKypvvS29v",
        "colab_type": "code",
        "colab": {}
      },
      "source": [
        "import matplotlib.pyplot as plt\n",
        "import numpy as np\n",
        "\n",
        "def view_classify(img, ps, version=\"MNIST\"):\n",
        "    ''' Function for viewing an image and it's predicted classes.\n",
        "    '''\n",
        "    ps = ps.data.numpy().squeeze()\n",
        "\n",
        "    fig, (ax1, ax2) = plt.subplots(figsize=(10, 10), ncols=2)\n",
        "    ax1.imshow(img.resize_(1, 28, 28).numpy().squeeze())\n",
        "    ax1.axis('off')\n",
        "    ax2.barh(np.arange(10), ps)\n",
        "    ax2.set_aspect(0.1)\n",
        "    ax2.set_yticks(np.arange(10))\n",
        "    if version == \"MNIST\":\n",
        "        ax2.set_yticklabels(np.arange(10))\n",
        "    elif version == \"FMNIST\":\n",
        "        ax2.set_yticklabels(['T-shirt/top',\n",
        "                            'Trouser',\n",
        "                            'Pullover',\n",
        "                            'Dress',\n",
        "                            'Coat',\n",
        "                            'Sandal',\n",
        "                            'Shirt',\n",
        "                            'Sneaker',\n",
        "                            'Bag',\n",
        "                            'Ankle Boot'], size='small');\n",
        "    ax2.set_title('Class Probability')\n",
        "    ax2.set_xlim(0, 1.1)\n",
        "\n",
        "    plt.tight_layout()\n",
        "    \n",
        "\n",
        "def imshow(image, ax=None, title=None, normalize=True):\n",
        "    \"\"\"Imshow for Tensor.\"\"\"\n",
        "    if ax is None:\n",
        "        fig, ax = plt.subplots()\n",
        "    image = image.numpy().transpose((1, 2, 0))\n",
        "\n",
        "    if not normalize:\n",
        "        image = 0.5 * image + 0.5\n",
        "        image = np.clip(image, 0, 1)\n",
        "\n",
        "    ax.imshow(image)\n",
        "    ax.spines['top'].set_visible(False)\n",
        "    ax.spines['right'].set_visible(False)\n",
        "    ax.spines['left'].set_visible(False)\n",
        "    ax.spines['bottom'].set_visible(False)\n",
        "    ax.tick_params(axis='both', length=0)\n",
        "    ax.set_xticklabels('')\n",
        "    ax.set_yticklabels('')\n",
        "\n",
        "    return ax"
      ],
      "execution_count": 0,
      "outputs": []
    },
    {
      "cell_type": "code",
      "metadata": {
        "id": "K66ot6-dUW7r",
        "colab_type": "code",
        "colab": {}
      },
      "source": [
        ""
      ],
      "execution_count": 0,
      "outputs": []
    }
  ]
}