{
 "cells": [
  {
   "cell_type": "markdown",
   "metadata": {},
   "source": [
    "# MNIST Classifier"
   ]
  },
  {
   "cell_type": "code",
   "execution_count": 1,
   "metadata": {},
   "outputs": [],
   "source": [
    "import torch\n",
    "import torch.nn as nn"
   ]
  },
  {
   "cell_type": "markdown",
   "metadata": {},
   "source": [
    "Build the model"
   ]
  },
  {
   "cell_type": "code",
   "execution_count": 2,
   "metadata": {},
   "outputs": [],
   "source": [
    "def conv(ic:int, oc:int, k:int=5):\n",
    "  layers = [nn.Conv2d(ic, oc, kernel_size=5), nn.MaxPool2d(2), \n",
    "            nn.ReLU(inplace=True)]\n",
    "  return layers\n",
    "\n",
    "class Flatten(nn.Module):\n",
    "  def forward(self, x):\n",
    "    return x.reshape(x.size(0), -1)\n",
    "\n",
    "class Lenet(nn.Module):\n",
    "  def __init__(self, nc:int=10, ic:int=1, ex:int=1, inhw:int=28):\n",
    "    super().__init__()\n",
    "    op = 5 if inhw == 32 else 4 # else assumes input size is 28 (for MNIST)\n",
    "    layers = [*conv(ic, 6*ex), *conv(6*ex, 16*ex), Flatten(), \n",
    "              nn.Linear(16*op*op*ex, 120*ex), nn.Linear(120*ex, 84*ex), \n",
    "              nn.Linear(84*ex, nc)]\n",
    "    self.net = nn.Sequential(*layers)\n",
    "\n",
    "  def forward(self, x): return self.net(x)\n",
    "\n",
    "\n",
    "net = Lenet()"
   ]
  },
  {
   "cell_type": "markdown",
   "metadata": {},
   "source": [
    "Get the Dataset!"
   ]
  },
  {
   "cell_type": "code",
   "execution_count": 3,
   "metadata": {},
   "outputs": [],
   "source": [
    "from torchvision import transforms as T\n",
    "import torch.optim as optim\n",
    "from torch.utils.data import DataLoader\n",
    "from torchvision import datasets, transforms\n",
    "\n",
    "root, bs  = './', 16\n",
    "\n",
    "trf = T.Compose([\n",
    "        T.RandomRotation(20),\n",
    "        T.ToTensor(),\n",
    "        T.Normalize((0.5,), (0.5,))\n",
    "    ])\n",
    "\n",
    "t = datasets.MNIST(root, train=True, download=True, transform=trf)\n",
    "v = datasets.MNIST(root, train=False, download=True, transform=trf)\n",
    "tloader = DataLoader(t, shuffle=True, batch_size=bs)\n",
    "vloader = DataLoader(v, shuffle=True, batch_size=bs)"
   ]
  },
  {
   "cell_type": "markdown",
   "metadata": {},
   "source": [
    "Define the Loss function and Optimizer"
   ]
  },
  {
   "cell_type": "code",
   "execution_count": 4,
   "metadata": {},
   "outputs": [],
   "source": [
    "opti = optim.SGD(net.parameters(), lr=0.01)\n",
    "crit = nn.CrossEntropyLoss()"
   ]
  },
  {
   "cell_type": "markdown",
   "metadata": {},
   "source": [
    "Define the train function and train a MNIST Classifier"
   ]
  },
  {
   "cell_type": "code",
   "execution_count": 5,
   "metadata": {},
   "outputs": [],
   "source": [
    "import torch.optim as optim\n",
    "\n",
    "def train(net, crit, trl, val, epochs=5, lr=0.01, dev='cuda'):\n",
    "  # Initialize the Optimizer\n",
    "  opt = optim.SGD(net.parameters(), lr=lr)\n",
    "  dev = 'cuda' if torch.cuda.is_available() and dev == 'cuda' else 'cpu'\n",
    "  net.to(dev)\n",
    "  for i in range(epochs):\n",
    "    for data, labl in trl:\n",
    "      data, labl = data.to(dev), labl.to(dev)\n",
    "      #labl = (labl == bclf).unsqueeze(1).float()\n",
    "      out = net(data.float())\n",
    "      loss = crit(out, labl)\n",
    "      #print (loss)\n",
    "      opt.zero_grad()\n",
    "      loss.backward()\n",
    "      opt.step()\n",
    "    \n",
    "    with torch.no_grad():\n",
    "      acc = 0; vloss = 0;\n",
    "      for data, labl in val:\n",
    "        data, labl = data.to(dev), labl.to(dev)\n",
    "        #labl = (labl == bclf).unsqueeze(1).float()\n",
    "        out = net(data.float())\n",
    "        vloss += crit(out, labl).detach().cpu().numpy().item()\n",
    "        plabl = torch.argmax(out, dim=1)\n",
    "        #plabl = plabl.reshape(-1, 1).float()\n",
    "        acc += (labl.float() == plabl.float()).detach().cpu().sum().numpy()\n",
    "      \n",
    "      vloss /= (len(val) * val.batch_size)\n",
    "      acc /= (len(val) * val.batch_size)\n",
    "      print ('Epoch {}/{} - Validation Loss {:.3f} - Accuracy - {:.3f}'.format(i+1, epochs,\n",
    "        vloss, acc))"
   ]
  },
  {
   "cell_type": "code",
   "execution_count": 7,
   "metadata": {},
   "outputs": [
    {
     "name": "stdout",
     "output_type": "stream",
     "text": [
      "Epoch 1/5 - Validation Loss 0.005 - Accuracy - 0.976\n",
      "Epoch 2/5 - Validation Loss 0.004 - Accuracy - 0.978\n",
      "Epoch 3/5 - Validation Loss 0.004 - Accuracy - 0.978\n",
      "Epoch 4/5 - Validation Loss 0.004 - Accuracy - 0.978\n",
      "Epoch 5/5 - Validation Loss 0.004 - Accuracy - 0.979\n"
     ]
    }
   ],
   "source": [
    "train(net, crit, tloader, vloader, epochs=5, lr=0.01)"
   ]
  },
  {
   "cell_type": "markdown",
   "metadata": {},
   "source": [
    "Let's viz!"
   ]
  },
  {
   "cell_type": "code",
   "execution_count": 34,
   "metadata": {},
   "outputs": [
    {
     "data": {
      "image/png": "[encoded data removed]",
      "text/plain": [
       "<Figure size 432x648 with 2 Axes>"
      ]
     },
     "metadata": {
      "image/png": {
       "height": 226,
       "width": 423
      }
     },
     "output_type": "display_data"
    }
   ],
   "source": [
    "%matplotlib inline\n",
    "%config InlineBackend.figure_format = 'retina'\n",
    "from torch.nn import functional as F\n",
    "#import helper\n",
    "\n",
    "# Test out your network!\n",
    "\n",
    "dataiter = iter(vloader)\n",
    "images, labels = dataiter.next()\n",
    "img = images[0].unsqueeze(0)\n",
    "# Convert 2D image to 1D vector\n",
    "#img = img.resize_(1, 784)\n",
    "\n",
    "# TODO: Calculate the class probabilities (softmax) for img\n",
    "ps = torch.exp(F.log_softmax(net.cpu()(img), dim=1))\n",
    "#print (ps)\n",
    "\n",
    "# Plot the image and probabilities\n",
    "#helper.view_classify(img.resize_(1, 28, 28), ps, version='Fashion')\n",
    "view_classify(img.resize_(1, 28, 28), ps, version='Fashion')"
   ]
  },
  {
   "cell_type": "code",
   "execution_count": 32,
   "metadata": {},
   "outputs": [],
   "source": [
    "import matplotlib.pyplot as plt\n",
    "import numpy as np\n",
    "\n",
    "# Helper functions\n",
    "def view_classify(img, ps, version=\"MNIST\"):\n",
    "    ''' Function for viewing an image and it's predicted classes.\n",
    "    '''\n",
    "    ps = ps.data.numpy().squeeze()\n",
    "\n",
    "    fig, (ax1, ax2) = plt.subplots(figsize=(6,9), ncols=2)\n",
    "    ax1.imshow(img.resize_(1, 28, 28).numpy().squeeze())\n",
    "    ax1.axis('off')\n",
    "    ax2.barh(np.arange(10), ps)\n",
    "    ax2.set_aspect(0.1)\n",
    "    ax2.set_yticks(np.arange(10))\n",
    "    ax2.set_yticklabels(np.arange(10))\n",
    "    ax2.set_title('Class Probability')\n",
    "    ax2.set_xlim(0, 1.1)\n",
    "    plt.tight_layout()\n",
    "    \n",
    "\n",
    "def imshow(image, ax=None, title=None, normalize=True):\n",
    "    \"\"\"Imshow for Tensor.\"\"\"\n",
    "    if ax is None:\n",
    "        fig, ax = plt.subplots()\n",
    "    image = image.numpy().transpose((1, 2, 0))\n",
    "\n",
    "    if normalize:\n",
    "        mean = np.array([0.485, 0.456, 0.406])\n",
    "        std = np.array([0.229, 0.224, 0.225])\n",
    "        image = std * image + mean\n",
    "        image = np.clip(image, 0, 1)\n",
    "\n",
    "    ax.imshow(image)\n",
    "    ax.spines['top'].set_visible(False)\n",
    "    ax.spines['right'].set_visible(False)\n",
    "    ax.spines['left'].set_visible(False)\n",
    "    ax.spines['bottom'].set_visible(False)\n",
    "    ax.tick_params(axis='both', length=0)\n",
    "    ax.set_xticklabels('')\n",
    "    ax.set_yticklabels('')\n",
    "\n",
    "    return ax"
   ]
  }
 ],
 "metadata": {
  "kernelspec": {
   "display_name": "Python 3",
   "language": "python",
   "name": "python3"
  },
  "language_info": {
   "codemirror_mode": {
    "name": "ipython",
    "version": 3
   },
   "file_extension": ".py",
   "mimetype": "text/x-python",
   "name": "python",
   "nbconvert_exporter": "python",
   "pygments_lexer": "ipython3",
   "version": "3.6.8"
  }
 },
 "nbformat": 4,
 "nbformat_minor": 2
}
