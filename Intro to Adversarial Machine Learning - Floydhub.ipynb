{
 "cells": [
  {
   "cell_type": "markdown",
   "metadata": {},
   "source": [
    "# Introduction to Adversarial Machine Learning\n",
    "\n",
    "This notebook is made along with the\n",
    "\n",
    "**Introduction to Adversarial Machine Learning**\n",
    "\n",
    "_on Floydhub_.\n",
    "\n",
    "One can find the article here: \n",
    "\n",
    "The notebook was written in a way such that it complements the article. So, go through the article along with the notebook.\n",
    "\n",
    "Let's dive in!"
   ]
  },
  {
   "cell_type": "markdown",
   "metadata": {},
   "source": [
    "Adversarial Machine Learning involves around developing attacks that can make SOTA models fail miserably (thus pointing out their weaknesses in the learning) and defences that these algorithms against these attacks.\n",
    "\n",
    "Throughout this notebook we will use a library that is created by me, its called scratchai.\n",
    "\n",
    "## Table of Contents\n",
    "Attacks\n",
    "    1. Noise Attack\n",
    "    2. Semantic Attack\n",
    "    3. FGSM Attack\n",
    "    4. Projected Gradient Descent Attack\n",
    "    5. DeepFool\n",
    "\n",
    "Defenses\n",
    "    1. Adversarial Training\n",
    "    2. Random Cropping and Padding"
   ]
  },
  {
   "cell_type": "code",
   "execution_count": null,
   "metadata": {},
   "outputs": [],
   "source": []
  }
 ],
 "metadata": {
  "kernelspec": {
   "display_name": "Python 3",
   "language": "python",
   "name": "python3"
  },
  "language_info": {
   "codemirror_mode": {
    "name": "ipython",
    "version": 3
   },
   "file_extension": ".py",
   "mimetype": "text/x-python",
   "name": "python",
   "nbconvert_exporter": "python",
   "pygments_lexer": "ipython3",
   "version": "3.6.7"
  }
 },
 "nbformat": 4,
 "nbformat_minor": 2
}
